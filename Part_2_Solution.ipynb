{
  "nbformat": 4,
  "nbformat_minor": 0,
  "metadata": {
    "colab": {
      "name": "Part_2_Solution.ipynb",
      "provenance": [],
      "collapsed_sections": [],
      "toc_visible": true,
      "authorship_tag": "ABX9TyPOTgXcLzt6ZViNA9QbzHBW",
      "include_colab_link": true
    },
    "kernelspec": {
      "name": "python3",
      "display_name": "Python 3"
    }
  },
  "cells": [
    {
      "cell_type": "markdown",
      "metadata": {
        "id": "view-in-github",
        "colab_type": "text"
      },
      "source": [
        "<a href=\"https://colab.research.google.com/github/Agbeli/Solution_2/blob/main/Part_2_Solution.ipynb\" target=\"_parent\"><img src=\"https://colab.research.google.com/assets/colab-badge.svg\" alt=\"Open In Colab\"/></a>"
      ]
    },
    {
      "cell_type": "markdown",
      "metadata": {
        "id": "SC3Uzk3qBDoU"
      },
      "source": [
        "### Sequences Analysis\n",
        "\n",
        "- This is to perform comparative analysis with different classifiers based on K-mers approach of feature extraction from sequence dataset. \n",
        "\n",
        "- Viral sequences of HIV-1 dataset. \n",
        "\n",
        "\n",
        "#### Reasons for HIV-1 dataset:\n",
        "\n",
        "- The size fo the 16S ribosomal RNA sequence datasets are huge to be precess with the limited resources at hand now. \n",
        "- I had to leverage on colab for the second questions. \n",
        "- All the datasets I got in the course of search where not annotated and I needed time to explore more in order to understand de-facto standard for annotating such dataset. \n",
        "\n",
        "\n",
        "#### Difference between the naive bayes and Logistic Regression:\n",
        "\n",
        "Naive bayes is linear classifier using Bayes Theorem and strong independence condition among features. Given input data of n features $x_{1},x_{2},\\cdots,x_{n}$. Naive bayes predict the probabilistic outcome say $Y$ given the input features. This model is term as generative model. \n",
        "\n",
        "Logistic Regression is also a linear classifier that mostly used in cases where there is boolean outcome say $\\{0,1\\}$. The probability outcome is parametric function given by the sigmoid function. This is a discriminative model. There is multiclass logistic regression use for more two outcomes. \n",
        "\n",
        "\n",
        "References:\n",
        "\n",
        "- https://scikit-learn.org\n",
        "- http://castor.bioinfo.uqam.ca/index.php?castor=main"
      ]
    },
    {
      "cell_type": "code",
      "metadata": {
        "colab": {
          "base_uri": "https://localhost:8080/"
        },
        "id": "IHxMBJyFA7QO",
        "outputId": "748a930d-a7bb-4ad9-8464-a7e42872be76"
      },
      "source": [
        "### mount the drive in order to have access to my drive.... \n",
        "from google.colab import  drive \n",
        "drive.mount(\"/content/drive\")"
      ],
      "execution_count": 1,
      "outputs": [
        {
          "output_type": "stream",
          "text": [
            "Mounted at /content/drive\n"
          ],
          "name": "stdout"
        }
      ]
    },
    {
      "cell_type": "code",
      "metadata": {
        "colab": {
          "base_uri": "https://localhost:8080/"
        },
        "id": "oCIIehQjDgzX",
        "outputId": "7a324603-bc5f-47f5-dc38-e27c02673f5c"
      },
      "source": [
        "%cd \"/content/drive/MyDrive/Yaamachi\""
      ],
      "execution_count": 2,
      "outputs": [
        {
          "output_type": "stream",
          "text": [
            "/content/drive/MyDrive/Yaamachi\n"
          ],
          "name": "stdout"
        }
      ]
    },
    {
      "cell_type": "code",
      "metadata": {
        "colab": {
          "base_uri": "https://localhost:8080/"
        },
        "id": "0yFTf1o1lGru",
        "outputId": "52e81539-7c2f-466d-91eb-8f632439321d"
      },
      "source": [
        "!pip install -U biopython"
      ],
      "execution_count": 3,
      "outputs": [
        {
          "output_type": "stream",
          "text": [
            "Collecting biopython\n",
            "\u001b[?25l  Downloading https://files.pythonhosted.org/packages/76/02/8b606c4aa92ff61b5eda71d23b499ab1de57d5e818be33f77b01a6f435a8/biopython-1.78-cp36-cp36m-manylinux1_x86_64.whl (2.3MB)\n",
            "\u001b[K     |████████████████████████████████| 2.3MB 8.7MB/s \n",
            "\u001b[?25hRequirement already satisfied, skipping upgrade: numpy in /usr/local/lib/python3.6/dist-packages (from biopython) (1.19.5)\n",
            "Installing collected packages: biopython\n",
            "Successfully installed biopython-1.78\n"
          ],
          "name": "stdout"
        }
      ]
    },
    {
      "cell_type": "code",
      "metadata": {
        "id": "tIiSZ-rI8Bvq"
      },
      "source": [
        "import pandas as pd \n",
        "import numpy as np \n",
        "import scipy \n",
        "import sklearn\n",
        "from matplotlib import pyplot as plt \n",
        "import os\n",
        "import sys\n",
        "import csv\n",
        "from Bio import SeqIO\n",
        "import re"
      ],
      "execution_count": 1,
      "outputs": []
    },
    {
      "cell_type": "code",
      "metadata": {
        "id": "uFC8r1eYmmlt"
      },
      "source": [
        "def generateDataset(fasta_file,csv_file):\n",
        "\n",
        "  data = list()\n",
        "\n",
        "  with open(csv_file,\"r\") as file:\n",
        "    reader = dict(csv.reader(file))\n",
        "  \n",
        "  for record in SeqIO.parse(fasta_file,\"fasta\"):\n",
        "    if record.id in reader: \n",
        "      data.append([record.id, record.seq.upper(),reader[record.id]])\n",
        "\n",
        "  return data "
      ],
      "execution_count": 2,
      "outputs": []
    },
    {
      "cell_type": "code",
      "metadata": {
        "id": "zio0QJGQnkDN"
      },
      "source": [
        "fasta_file = \"/content/drive/MyDrive/Yaamachi/CASTOR_KRFE/Input/HIVGRPCG/data.fasta\"\n",
        "target_file = \"/content/drive/MyDrive/Yaamachi/CASTOR_KRFE/Input/HIVGRPCG/target.csv\""
      ],
      "execution_count": 3,
      "outputs": []
    },
    {
      "cell_type": "code",
      "metadata": {
        "id": "7F7UN8DDneLR"
      },
      "source": [
        "dataset = generateDataset(fasta_file=fasta_file,csv_file=target_file)"
      ],
      "execution_count": 4,
      "outputs": []
    },
    {
      "cell_type": "markdown",
      "metadata": {
        "id": "A_YUuAZQpcJB"
      },
      "source": [
        "### Exploratory Analysis \n",
        "\n",
        "- This is to have an insight of the sequences in the dataset. There are any form of imbalance scenarios in the dataset. \n",
        "- To have a fair distribution of the labels in the dataset. \n",
        "- Visualize the nature of distribution in the dataset.\n",
        "\n",
        "#### Results:\n",
        "\n",
        "- There is high level of imbalance scenario in the dataset. \n",
        "- I have to consider using k-folds cross-validation. "
      ]
    },
    {
      "cell_type": "code",
      "metadata": {
        "id": "GJcMYzwInVkF"
      },
      "source": [
        "### create a dataframe\n",
        "from collections import defaultdict \n",
        "frequency_count = defaultdict(int)\n",
        "\n",
        "for i in dataset:\n",
        "  if i[2] in frequency_count.keys():\n",
        "    frequency_count[i[2]] += len(i[1])\n",
        "  else:\n",
        "    frequency_count[i[2]] = 0"
      ],
      "execution_count": 5,
      "outputs": []
    },
    {
      "cell_type": "code",
      "metadata": {
        "colab": {
          "base_uri": "https://localhost:8080/",
          "height": 456
        },
        "id": "VcSZNOKhofmO",
        "outputId": "77e92d68-ee5e-4f54-a38c-1240919b93fd"
      },
      "source": [
        "d = sorted(frequency_count.items(),key=lambda x:x[1],reverse=True)\n",
        "x , y = zip(*d)  ## unpack the \n",
        "plt.figure(figsize=(10,6))\n",
        "plt.bar(x,y,label=\"Categories\",color=\"blue\")\n",
        "plt.xticks(fontsize=16, rotation=45)\n",
        "plt.yticks(fontsize=16, rotation=45)\n",
        "plt.title(\"Distribution of the labels\",fontsize=16)\n",
        "plt.ylabel(\"Labels\",fontsize=16)\n",
        "plt.xlabel(\"frequency of labels\",fontsize=16)\n",
        "plt.legend(loc=\"best\")\n",
        "plt.show()"
      ],
      "execution_count": 6,
      "outputs": [
        {
          "output_type": "display_data",
          "data": {
            "image/png": "[encoded data removed]",
            "text/plain": [
              "<Figure size 720x432 with 1 Axes>"
            ]
          },
          "metadata": {
            "tags": [],
            "needs_background": "light"
          }
        }
      ]
    },
    {
      "cell_type": "code",
      "metadata": {
        "id": "PafA-skBr0pt"
      },
      "source": [
        "# Function generating the k_mers belonging to the sequences \n",
        "def generate_K_mers(data, k):\n",
        "\t# List of k-mer\n",
        "\tK_mers = []\n",
        "\tdict = {}\n",
        "\n",
        "\t# Initialization of the dictionary\n",
        "\tfor d in data:\n",
        "\t\tfor i in range(0, len(d[1]) - k + 1, 1): dict[d[1][i:i + k]] = 0;\n",
        "\t\t\n",
        "\t# Remove patterns not used\n",
        "\tfor key in dict.keys():\n",
        "\t\tif bool(re.match('^[ACGT]+$', str(key))) == True: K_mers.append(str(key))\n",
        "\t\n",
        "\t# Return K_mers\n",
        "\treturn K_mers"
      ],
      "execution_count": 7,
      "outputs": []
    },
    {
      "cell_type": "code",
      "metadata": {
        "id": "SZ72Oc03tv9B"
      },
      "source": [
        "###\n",
        "kmers_data = generate_K_mers(dataset,4)"
      ],
      "execution_count": 8,
      "outputs": []
    },
    {
      "cell_type": "markdown",
      "metadata": {
        "id": "e8EjvwBa3LE4"
      },
      "source": [
        "#### Generate Matrice "
      ]
    },
    {
      "cell_type": "code",
      "metadata": {
        "id": "C_MtPXEao6bC"
      },
      "source": [
        "# Function of feature and class matrix generation\n",
        "def generateMatrice(data, K_mer, k):\n",
        "\t# Variables\n",
        "\tX = []\n",
        "\ty = []\n",
        "\n",
        "\t# Generate K-mer dictionnary\n",
        "\tX_dict = {}\n",
        "\tfor i, e in enumerate(K_mer):  X_dict[e] = 0;\n",
        "\t# Generates X (matrix attributes)\n",
        "\tfor d in data:\n",
        "\t\tx = []\n",
        "\t\tx_dict =  X_dict.copy()\n",
        "\n",
        "\t\t# Count K-mer occurences (with overlaping)\n",
        "\t\tfor i in range(0, len(d[1]) - k + 1, 1):\n",
        "\t\t\ttry: x_dict[d[1][i:i + k]] = x_dict[d[1][i:i + k]] + 1; \n",
        "\t\t\texcept: pass\n",
        "\t\t\n",
        "\t\t# Get only occurences from dictionnary\n",
        "\t\tfor value in x_dict:\n",
        "\t\t\tx.append(x_dict.get(value))\n",
        "\t\tX.append(x)\n",
        "\n",
        "\t# Generates y (Matrix class) if csv file exist\n",
        "\tif len(data[0]) == 3: \n",
        "\t\tfor i in data: y.append(i[2])\n",
        "\t\n",
        "\t# Return matrices X and y  (matrix attributes and matrix class)\n",
        "\treturn X, np.array(y)"
      ],
      "execution_count": 9,
      "outputs": []
    },
    {
      "cell_type": "code",
      "metadata": {
        "id": "uJHh4PkX7qxT"
      },
      "source": [
        "X_dataset , y = generateMatrice(dataset,kmers_data,4)"
      ],
      "execution_count": 10,
      "outputs": []
    },
    {
      "cell_type": "markdown",
      "metadata": {
        "id": "rMm8SyXyUPQs"
      },
      "source": [
        "### 10 -folds cross-validations\n",
        "\n",
        "- From the results, we observe that both logistic regression and Multinomial Naive bayes have a higher f1-score compare to the other two bayes models. "
      ]
    },
    {
      "cell_type": "code",
      "metadata": {
        "colab": {
          "base_uri": "https://localhost:8080/",
          "height": 517
        },
        "id": "-fyHCy5dQ4bB",
        "outputId": "907cc0b9-8738-4e09-b0bf-00e250212c36"
      },
      "source": [
        "##### import the libraries required \n",
        "from sklearn.model_selection import train_test_split\n",
        "from sklearn.model_selection import StratifiedKFold\n",
        "from sklearn.linear_model import LogisticRegression\n",
        "from sklearn.naive_bayes import GaussianNB, MultinomialNB, BernoulliNB\n",
        "from sklearn.metrics import confusion_matrix,accuracy_score,f1_score,classification_report\n",
        "from sklearn.model_selection import cross_val_predict\n",
        "import warnings\n",
        "\n",
        "warnings.filterwarnings(\"ignore\")\n",
        "###### \n",
        "models = {\"LogisticRegression\":LogisticRegression,\"GaussianNB\":GaussianNB,\n",
        "            \"MultinomialNB\":MultinomialNB,\"BernoulliNB\":BernoulliNB}\n",
        "f1_scores = dict()\n",
        "### perform 10-fold cross-validation for each models \n",
        "cv = StratifiedKFold(n_splits=10)\n",
        "for name , model in models.items():\n",
        "  y_pred = cross_val_predict(estimator= model(),X = X_dataset,y = y,cv = cv)\n",
        "  f1_scores[name] = f1_score(y,y_pred,average=\"weighted\")\n",
        "\n",
        "\n",
        "d = sorted(f1_scores.items(),key=lambda x:x[1],reverse=True)\n",
        "x , y = zip(*d)  ## unpack the \n",
        "plt.figure(figsize=(10,6))\n",
        "plt.bar(x,y,label=\"f1-scores for each model\",color=[\"blue\",\"red\",\"green\",\"yellow\"])\n",
        "plt.xticks(fontsize=16, rotation=45)\n",
        "plt.yticks(fontsize=16, rotation=45)\n",
        "plt.title(\"f1 scores\",fontsize=16)\n",
        "plt.ylabel(\"score\",fontsize=16)\n",
        "plt.xlabel(\"model type\",fontsize=16)\n",
        "plt.legend(loc=\"best\")\n",
        "plt.show()  \n"
      ],
      "execution_count": 29,
      "outputs": [
        {
          "output_type": "display_data",
          "data": {
            "image/png": "[encoded data removed]",
            "text/plain": [
              "<Figure size 720x432 with 1 Axes>"
            ]
          },
          "metadata": {
            "tags": [],
            "needs_background": "light"
          }
        }
      ]
    },
    {
      "cell_type": "code",
      "metadata": {
        "id": "RIu8MXfylZTf"
      },
      "source": [
        ""
      ],
      "execution_count": null,
      "outputs": []
    }
  ]
}